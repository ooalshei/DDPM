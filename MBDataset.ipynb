{
 "cells": [
  {
   "cell_type": "code",
   "execution_count": 1,
   "id": "4018bc68",
   "metadata": {},
   "outputs": [],
   "source": [
    "import torch\n",
    "import numpy as np\n",
    "from torch.utils.data import Dataset"
   ]
  },
  {
   "cell_type": "code",
   "execution_count": 2,
   "id": "d75fa5a3",
   "metadata": {},
   "outputs": [],
   "source": [
    "class MBDataSet(Dataset):\n",
    "    \n",
    "    def __init__(self, root): #I think I got this, but ask about other arguments\n",
    "        self.data=np.load(root)\n",
    "        self.max_data = np.max(self.data, axis=0)\n",
    "        self.min_data = np.min(self.data, axis=0)\n",
    "        self.standardized_data = 2*(self.data - self.min_data)/(self.max_data - self.min_data) - 1\n",
    "        \n",
    "    def __len__(self):\n",
    "        return len(self.data)[0] #need to verify the index here\n",
    "    \n",
    "    def __getitem__(self, index):\n",
    "        x = self.standardized_data[index:index+1,:]\n",
    "        return torch.from_numpy(x) #Ask here"
   ]
  },
  {
   "cell_type": "code",
   "execution_count": null,
   "id": "6061ba0c",
   "metadata": {},
   "outputs": [],
   "source": []
  },
  {
   "cell_type": "code",
   "execution_count": null,
   "id": "a1da2483-035d-43b8-83ce-00c47fa8df1a",
   "metadata": {},
   "outputs": [],
   "source": []
  }
 ],
 "metadata": {
  "kernelspec": {
   "display_name": "Python 3 (ipykernel)",
   "language": "python",
   "name": "python3"
  },
  "language_info": {
   "codemirror_mode": {
    "name": "ipython",
    "version": 3
   },
   "file_extension": ".py",
   "mimetype": "text/x-python",
   "name": "python",
   "nbconvert_exporter": "python",
   "pygments_lexer": "ipython3",
   "version": "3.11.4"
  }
 },
 "nbformat": 4,
 "nbformat_minor": 5
}
